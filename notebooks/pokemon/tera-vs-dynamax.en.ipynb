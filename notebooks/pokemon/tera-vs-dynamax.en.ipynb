{
 "cells": [
  {
   "cell_type": "markdown",
   "id": "b99ebb93-180a-42ca-83cd-9daef2aaa8c0",
   "metadata": {},
   "source": [
    "# Terastallization vs Dynamax"
   ]
  },
  {
   "cell_type": "code",
   "execution_count": null,
   "id": "9a32e639-cfce-4aa0-a3d4-e572d4188d02",
   "metadata": {},
   "outputs": [],
   "source": []
  }
 ],
 "metadata": {
  "kernelspec": {
   "display_name": "Python 3 (ipykernel)",
   "language": "python",
   "name": "python3"
  },
  "language_info": {
   "codemirror_mode": {
    "name": "ipython",
    "version": 3
   },
   "file_extension": ".py",
   "mimetype": "text/x-python",
   "name": "python",
   "nbconvert_exporter": "python",
   "pygments_lexer": "ipython3",
   "version": "3.11.13"
  }
 },
 "nbformat": 4,
 "nbformat_minor": 5
}
