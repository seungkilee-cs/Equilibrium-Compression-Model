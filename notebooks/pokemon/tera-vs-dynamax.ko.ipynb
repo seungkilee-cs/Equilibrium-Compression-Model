{
 "cells": [
  {
   "cell_type": "code",
   "execution_count": null,
   "id": "54596cf7-4880-4e77-8594-a943f2050cd2",
   "metadata": {},
   "outputs": [],
   "source": []
  }
 ],
 "metadata": {
  "kernelspec": {
   "display_name": "Python 3 (ipykernel)",
   "language": "python",
   "name": "python3"
  },
  "language_info": {
   "codemirror_mode": {
    "name": "ipython",
    "version": 3
   },
   "file_extension": ".py",
   "mimetype": "text/x-python",
   "name": "python",
   "nbconvert_exporter": "python",
   "pygments_lexer": "ipython3",
   "version": "3.11.13"
  }
 },
 "nbformat": 4,
 "nbformat_minor": 5
}
